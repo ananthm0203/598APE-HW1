{
 "cells": [
  {
   "cell_type": "code",
   "execution_count": null,
   "metadata": {},
   "outputs": [],
   "source": [
    "import pandas as pd\n",
    "import matplotlib.pyplot as plt\n",
    "\n",
    "# Read the CSV file\n",
    "df = pd.read_csv('times.txt', skipinitialspace=True)\n",
    "\n",
    "# Create the plot\n",
    "plt.figure(figsize=(10, 6))\n",
    "\n",
    "# Plot each scene\n",
    "plt.plot(df['commit'], df['piano'], marker='o', label='Piano')\n",
    "plt.plot(df['commit'], df['globe'], marker='s', label='Globe')\n",
    "plt.plot(df['commit'], df['elephant'], marker='^', label='Elephant')\n",
    "\n",
    "# Customize the plot\n",
    "plt.title('Render Time by Scene Across Commits')\n",
    "plt.xlabel('Commit Number')\n",
    "plt.ylabel('Time (seconds)')\n",
    "plt.grid(True, linestyle='--', alpha=0.7)\n",
    "plt.legend()\n",
    "\n",
    "# Use log scale for y-axis since times vary greatly\n",
    "plt.yscale('log')\n",
    "\n",
    "# Add value labels on the points\n",
    "for column in ['piano', 'globe', 'elephant']:\n",
    "    for x, y in zip(df['commit'], df[column]):\n",
    "        plt.annotate(f'{y:.2f}s', \n",
    "                    (x, y), \n",
    "                    textcoords=\"offset points\", \n",
    "                    xytext=(0,10), \n",
    "                    ha='center')\n",
    "\n",
    "# Adjust layout to prevent label clipping\n",
    "plt.tight_layout()\n",
    "\n",
    "# Save the plot\n",
    "plt.savefig('performance_plot.png')\n",
    "plt.show()"
   ]
  },
  {
   "cell_type": "code",
   "execution_count": null,
   "metadata": {},
   "outputs": [],
   "source": []
  }
 ],
 "metadata": {
  "language_info": {
   "name": "python"
  }
 },
 "nbformat": 4,
 "nbformat_minor": 2
}
